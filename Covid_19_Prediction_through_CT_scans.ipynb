{
  "nbformat": 4,
  "nbformat_minor": 0,
  "metadata": {
    "colab": {
      "name": "Covid-19_Prediction_through_CT-scans.ipynb",
      "provenance": [],
      "collapsed_sections": [],
      "mount_file_id": "12WYso_UtAN1MtCFMs3BZXyKNX8XfsERH",
      "authorship_tag": "ABX9TyM14mrPqY8/OAMi+XeNjumH",
      "include_colab_link": true
    },
    "kernelspec": {
      "name": "python3",
      "display_name": "Python 3"
    },
    "language_info": {
      "name": "python"
    },
    "accelerator": "GPU"
  },
  "cells": [
    {
      "cell_type": "markdown",
      "metadata": {
        "id": "view-in-github",
        "colab_type": "text"
      },
      "source": [
        "<a href=\"https://colab.research.google.com/github/SahilBharodiya/COVID_19_prediction_through_CT_scans/blob/main/Covid_19_Prediction_through_CT_scans.ipynb\" target=\"_parent\"><img src=\"https://colab.research.google.com/assets/colab-badge.svg\" alt=\"Open In Colab\"/></a>"
      ]
    },
    {
      "cell_type": "code",
      "metadata": {
        "id": "c13sogPUFp9O"
      },
      "source": [
        "import numpy as np  #Array releted work\n",
        "import pandas as pd  # For reading csv files\n",
        "import matplotlib.pyplot as plt  #For ploting images\n",
        "from sklearn.model_selection import train_test_split  #Deviding data in training and testing\n",
        "import tensorflow as tf  #For neural network\n",
        "from tensorflow import keras  #For training and testing neural network\n",
        "import random  #To assume numbers"
      ],
      "execution_count": 1,
      "outputs": []
    },
    {
      "cell_type": "code",
      "metadata": {
        "id": "AUQBE3j5GIRu"
      },
      "source": [
        "data = pd.read_csv(\"/content/drive/MyDrive/Colab Notebooks/Models/Covid/covid-19_data.csv\")  # Reading csv file"
      ],
      "execution_count": 2,
      "outputs": []
    },
    {
      "cell_type": "code",
      "metadata": {
        "id": "sUaMqmNfGdXg"
      },
      "source": [
        "X = data.drop(columns=['status', 'Unnamed: 0'])  # Features data\n",
        "y = data['status']  # Label data"
      ],
      "execution_count": 3,
      "outputs": []
    },
    {
      "cell_type": "code",
      "metadata": {
        "id": "8v8FSMlLGjkE"
      },
      "source": [
        "# Converting into NumPy array\n",
        "X = np.array(X)\n",
        "y = np.array(y)"
      ],
      "execution_count": 4,
      "outputs": []
    },
    {
      "cell_type": "code",
      "metadata": {
        "id": "rCq3CTbAHg_Q"
      },
      "source": [
        "train_X, test_X, train_y, test_y = train_test_split(X, y, test_size=0.2) # Deviding data into training and testing"
      ],
      "execution_count": 5,
      "outputs": []
    },
    {
      "cell_type": "code",
      "metadata": {
        "id": "MuvjN46IHpdr"
      },
      "source": [
        "# Our Neural Network\n",
        "model = keras.Sequential([\n",
        "    keras.layers.Flatten(input_shape=(30000,)),\n",
        "    keras.layers.Dense(256, activation='relu'), \n",
        "    keras.layers.Dense(128, activation='relu'), \n",
        "    keras.layers.Dense(64, activation='relu'), \n",
        "    keras.layers.Dense(32, activation='relu'), \n",
        "    keras.layers.Dense(16, activation='relu'), \n",
        "    keras.layers.Dense(2, activation='softmax')\n",
        "])"
      ],
      "execution_count": 6,
      "outputs": []
    },
    {
      "cell_type": "code",
      "metadata": {
        "colab": {
          "base_uri": "https://localhost:8080/"
        },
        "id": "TB1BVBmJHwCL",
        "outputId": "6a38945d-592b-4205-db61-ada063588a41"
      },
      "source": [
        "# Compiling Neural Network\n",
        "model.compile(optimizer='adam',\n",
        "              loss='sparse_categorical_crossentropy',\n",
        "              metrics=['accuracy'])\n",
        "\n",
        "model.summary()"
      ],
      "execution_count": 7,
      "outputs": [
        {
          "output_type": "stream",
          "text": [
            "Model: \"sequential\"\n",
            "_________________________________________________________________\n",
            "Layer (type)                 Output Shape              Param #   \n",
            "=================================================================\n",
            "flatten (Flatten)            (None, 30000)             0         \n",
            "_________________________________________________________________\n",
            "dense (Dense)                (None, 256)               7680256   \n",
            "_________________________________________________________________\n",
            "dense_1 (Dense)              (None, 128)               32896     \n",
            "_________________________________________________________________\n",
            "dense_2 (Dense)              (None, 64)                8256      \n",
            "_________________________________________________________________\n",
            "dense_3 (Dense)              (None, 32)                2080      \n",
            "_________________________________________________________________\n",
            "dense_4 (Dense)              (None, 16)                528       \n",
            "_________________________________________________________________\n",
            "dense_5 (Dense)              (None, 2)                 34        \n",
            "=================================================================\n",
            "Total params: 7,724,050\n",
            "Trainable params: 7,724,050\n",
            "Non-trainable params: 0\n",
            "_________________________________________________________________\n"
          ],
          "name": "stdout"
        }
      ]
    },
    {
      "cell_type": "code",
      "metadata": {
        "colab": {
          "base_uri": "https://localhost:8080/"
        },
        "id": "vsPBWy8wSPYd",
        "outputId": "db5d43e3-41c3-4cc2-ec56-3af24ae0122b"
      },
      "source": [
        "history = model.fit(train_X, train_y, epochs=100, \n",
        "                    validation_data=(test_X, test_y))"
      ],
      "execution_count": 8,
      "outputs": [
        {
          "output_type": "stream",
          "text": [
            "Epoch 1/100\n",
            "62/62 [==============================] - 1s 9ms/step - loss: 1.4264 - accuracy: 0.5751 - val_loss: 0.6033 - val_accuracy: 0.6821\n",
            "Epoch 2/100\n",
            "62/62 [==============================] - 0s 6ms/step - loss: 0.8991 - accuracy: 0.6038 - val_loss: 0.5591 - val_accuracy: 0.7324\n",
            "Epoch 3/100\n",
            "62/62 [==============================] - 0s 6ms/step - loss: 0.5452 - accuracy: 0.7167 - val_loss: 0.5218 - val_accuracy: 0.7404\n",
            "Epoch 4/100\n",
            "62/62 [==============================] - 0s 6ms/step - loss: 0.5297 - accuracy: 0.7198 - val_loss: 0.5025 - val_accuracy: 0.7606\n",
            "Epoch 5/100\n",
            "62/62 [==============================] - 0s 6ms/step - loss: 0.5483 - accuracy: 0.7172 - val_loss: 0.5094 - val_accuracy: 0.7525\n",
            "Epoch 6/100\n",
            "62/62 [==============================] - 0s 6ms/step - loss: 0.5687 - accuracy: 0.7006 - val_loss: 0.4977 - val_accuracy: 0.7666\n",
            "Epoch 7/100\n",
            "62/62 [==============================] - 0s 6ms/step - loss: 0.5154 - accuracy: 0.7394 - val_loss: 0.4984 - val_accuracy: 0.7706\n",
            "Epoch 8/100\n",
            "62/62 [==============================] - 0s 6ms/step - loss: 0.5425 - accuracy: 0.7233 - val_loss: 0.5079 - val_accuracy: 0.7626\n",
            "Epoch 9/100\n",
            "62/62 [==============================] - 0s 6ms/step - loss: 0.4675 - accuracy: 0.7782 - val_loss: 0.5213 - val_accuracy: 0.7606\n",
            "Epoch 10/100\n",
            "62/62 [==============================] - 0s 6ms/step - loss: 0.4796 - accuracy: 0.7712 - val_loss: 0.4840 - val_accuracy: 0.7726\n",
            "Epoch 11/100\n",
            "62/62 [==============================] - 0s 6ms/step - loss: 0.5040 - accuracy: 0.7535 - val_loss: 0.6041 - val_accuracy: 0.6982\n",
            "Epoch 12/100\n",
            "62/62 [==============================] - 0s 6ms/step - loss: 0.5156 - accuracy: 0.7545 - val_loss: 0.4814 - val_accuracy: 0.7767\n",
            "Epoch 13/100\n",
            "62/62 [==============================] - 0s 6ms/step - loss: 0.4491 - accuracy: 0.7863 - val_loss: 0.5026 - val_accuracy: 0.7565\n",
            "Epoch 14/100\n",
            "62/62 [==============================] - 0s 6ms/step - loss: 0.4784 - accuracy: 0.7757 - val_loss: 0.4759 - val_accuracy: 0.7928\n",
            "Epoch 15/100\n",
            "62/62 [==============================] - 0s 6ms/step - loss: 0.4072 - accuracy: 0.8145 - val_loss: 0.5060 - val_accuracy: 0.7626\n",
            "Epoch 16/100\n",
            "62/62 [==============================] - 0s 6ms/step - loss: 0.4827 - accuracy: 0.7576 - val_loss: 0.6163 - val_accuracy: 0.6881\n",
            "Epoch 17/100\n",
            "62/62 [==============================] - 0s 6ms/step - loss: 0.4001 - accuracy: 0.8296 - val_loss: 0.4784 - val_accuracy: 0.7626\n",
            "Epoch 18/100\n",
            "62/62 [==============================] - 0s 6ms/step - loss: 0.4271 - accuracy: 0.7974 - val_loss: 0.6083 - val_accuracy: 0.7002\n",
            "Epoch 19/100\n",
            "62/62 [==============================] - 0s 6ms/step - loss: 0.4347 - accuracy: 0.8029 - val_loss: 0.4676 - val_accuracy: 0.8089\n",
            "Epoch 20/100\n",
            "62/62 [==============================] - 0s 6ms/step - loss: 0.4217 - accuracy: 0.8070 - val_loss: 0.4469 - val_accuracy: 0.8089\n",
            "Epoch 21/100\n",
            "62/62 [==============================] - 0s 6ms/step - loss: 0.4456 - accuracy: 0.7933 - val_loss: 0.6831 - val_accuracy: 0.6237\n",
            "Epoch 22/100\n",
            "62/62 [==============================] - 0s 6ms/step - loss: 0.3818 - accuracy: 0.8266 - val_loss: 0.6699 - val_accuracy: 0.6962\n",
            "Epoch 23/100\n",
            "62/62 [==============================] - 0s 6ms/step - loss: 0.4847 - accuracy: 0.7636 - val_loss: 0.4570 - val_accuracy: 0.8048\n",
            "Epoch 24/100\n",
            "62/62 [==============================] - 0s 6ms/step - loss: 0.4534 - accuracy: 0.7747 - val_loss: 0.5057 - val_accuracy: 0.7505\n",
            "Epoch 25/100\n",
            "62/62 [==============================] - 0s 6ms/step - loss: 0.4555 - accuracy: 0.7883 - val_loss: 0.4727 - val_accuracy: 0.7988\n",
            "Epoch 26/100\n",
            "62/62 [==============================] - 0s 6ms/step - loss: 0.4001 - accuracy: 0.8180 - val_loss: 0.6642 - val_accuracy: 0.6459\n",
            "Epoch 27/100\n",
            "62/62 [==============================] - 0s 6ms/step - loss: 0.3913 - accuracy: 0.8306 - val_loss: 0.4537 - val_accuracy: 0.8109\n",
            "Epoch 28/100\n",
            "62/62 [==============================] - 0s 6ms/step - loss: 0.3675 - accuracy: 0.8286 - val_loss: 0.4765 - val_accuracy: 0.7867\n",
            "Epoch 29/100\n",
            "62/62 [==============================] - 0s 6ms/step - loss: 0.3358 - accuracy: 0.8579 - val_loss: 0.4282 - val_accuracy: 0.8189\n",
            "Epoch 30/100\n",
            "62/62 [==============================] - 0s 6ms/step - loss: 0.3643 - accuracy: 0.8443 - val_loss: 0.4561 - val_accuracy: 0.7928\n",
            "Epoch 31/100\n",
            "62/62 [==============================] - 0s 6ms/step - loss: 0.3609 - accuracy: 0.8478 - val_loss: 0.4544 - val_accuracy: 0.8089\n",
            "Epoch 32/100\n",
            "62/62 [==============================] - 0s 6ms/step - loss: 0.3632 - accuracy: 0.8372 - val_loss: 0.4792 - val_accuracy: 0.7767\n",
            "Epoch 33/100\n",
            "62/62 [==============================] - 0s 6ms/step - loss: 0.3538 - accuracy: 0.8498 - val_loss: 0.4257 - val_accuracy: 0.8249\n",
            "Epoch 34/100\n",
            "62/62 [==============================] - 0s 6ms/step - loss: 0.3850 - accuracy: 0.8276 - val_loss: 0.5427 - val_accuracy: 0.7062\n",
            "Epoch 35/100\n",
            "62/62 [==============================] - 0s 6ms/step - loss: 0.3583 - accuracy: 0.8498 - val_loss: 0.4643 - val_accuracy: 0.7948\n",
            "Epoch 36/100\n",
            "62/62 [==============================] - 0s 6ms/step - loss: 0.3256 - accuracy: 0.8644 - val_loss: 0.7597 - val_accuracy: 0.6720\n",
            "Epoch 37/100\n",
            "62/62 [==============================] - 0s 6ms/step - loss: 0.3389 - accuracy: 0.8533 - val_loss: 0.4529 - val_accuracy: 0.8149\n",
            "Epoch 38/100\n",
            "62/62 [==============================] - 0s 6ms/step - loss: 0.3603 - accuracy: 0.8372 - val_loss: 0.4622 - val_accuracy: 0.8249\n",
            "Epoch 39/100\n",
            "62/62 [==============================] - 0s 6ms/step - loss: 0.2971 - accuracy: 0.8695 - val_loss: 0.4472 - val_accuracy: 0.8209\n",
            "Epoch 40/100\n",
            "62/62 [==============================] - 0s 6ms/step - loss: 0.2547 - accuracy: 0.8942 - val_loss: 1.5064 - val_accuracy: 0.5412\n",
            "Epoch 41/100\n",
            "62/62 [==============================] - 0s 6ms/step - loss: 0.3854 - accuracy: 0.8498 - val_loss: 0.4209 - val_accuracy: 0.8310\n",
            "Epoch 42/100\n",
            "62/62 [==============================] - 0s 6ms/step - loss: 0.2400 - accuracy: 0.9057 - val_loss: 0.6855 - val_accuracy: 0.7324\n",
            "Epoch 43/100\n",
            "62/62 [==============================] - 0s 6ms/step - loss: 0.2422 - accuracy: 0.9017 - val_loss: 0.5135 - val_accuracy: 0.7907\n",
            "Epoch 44/100\n",
            "62/62 [==============================] - 0s 6ms/step - loss: 0.3361 - accuracy: 0.8528 - val_loss: 0.4250 - val_accuracy: 0.8290\n",
            "Epoch 45/100\n",
            "62/62 [==============================] - 0s 6ms/step - loss: 0.3031 - accuracy: 0.8770 - val_loss: 0.6178 - val_accuracy: 0.7163\n",
            "Epoch 46/100\n",
            "62/62 [==============================] - 0s 6ms/step - loss: 0.2285 - accuracy: 0.9052 - val_loss: 0.4168 - val_accuracy: 0.8551\n",
            "Epoch 47/100\n",
            "62/62 [==============================] - 0s 6ms/step - loss: 0.2230 - accuracy: 0.9168 - val_loss: 0.4098 - val_accuracy: 0.8431\n",
            "Epoch 48/100\n",
            "62/62 [==============================] - 0s 6ms/step - loss: 0.2839 - accuracy: 0.8795 - val_loss: 0.4469 - val_accuracy: 0.8169\n",
            "Epoch 49/100\n",
            "62/62 [==============================] - 0s 6ms/step - loss: 0.2483 - accuracy: 0.8992 - val_loss: 0.4534 - val_accuracy: 0.8149\n",
            "Epoch 50/100\n",
            "62/62 [==============================] - 0s 6ms/step - loss: 0.2291 - accuracy: 0.9103 - val_loss: 0.4856 - val_accuracy: 0.7948\n",
            "Epoch 51/100\n",
            "62/62 [==============================] - 0s 6ms/step - loss: 0.2308 - accuracy: 0.9073 - val_loss: 0.4178 - val_accuracy: 0.8410\n",
            "Epoch 52/100\n",
            "62/62 [==============================] - 0s 6ms/step - loss: 0.2399 - accuracy: 0.9042 - val_loss: 0.7173 - val_accuracy: 0.7525\n",
            "Epoch 53/100\n",
            "62/62 [==============================] - 0s 6ms/step - loss: 0.2644 - accuracy: 0.8851 - val_loss: 0.4078 - val_accuracy: 0.8592\n",
            "Epoch 54/100\n",
            "62/62 [==============================] - 0s 6ms/step - loss: 0.1515 - accuracy: 0.9516 - val_loss: 0.4084 - val_accuracy: 0.8712\n",
            "Epoch 55/100\n",
            "62/62 [==============================] - 0s 6ms/step - loss: 0.2028 - accuracy: 0.9365 - val_loss: 0.4151 - val_accuracy: 0.8632\n",
            "Epoch 56/100\n",
            "62/62 [==============================] - 0s 6ms/step - loss: 0.2297 - accuracy: 0.9103 - val_loss: 0.4494 - val_accuracy: 0.8410\n",
            "Epoch 57/100\n",
            "62/62 [==============================] - 0s 6ms/step - loss: 0.2217 - accuracy: 0.9133 - val_loss: 0.4344 - val_accuracy: 0.8229\n",
            "Epoch 58/100\n",
            "62/62 [==============================] - 0s 6ms/step - loss: 0.3672 - accuracy: 0.8503 - val_loss: 0.3913 - val_accuracy: 0.8551\n",
            "Epoch 59/100\n",
            "62/62 [==============================] - 0s 6ms/step - loss: 0.1674 - accuracy: 0.9461 - val_loss: 0.4437 - val_accuracy: 0.8511\n",
            "Epoch 60/100\n",
            "62/62 [==============================] - 0s 6ms/step - loss: 0.1558 - accuracy: 0.9435 - val_loss: 0.7769 - val_accuracy: 0.7465\n",
            "Epoch 61/100\n",
            "62/62 [==============================] - 0s 6ms/step - loss: 0.1947 - accuracy: 0.9194 - val_loss: 0.5892 - val_accuracy: 0.7827\n",
            "Epoch 62/100\n",
            "62/62 [==============================] - 0s 6ms/step - loss: 0.1513 - accuracy: 0.9501 - val_loss: 0.4518 - val_accuracy: 0.8370\n",
            "Epoch 63/100\n",
            "62/62 [==============================] - 0s 6ms/step - loss: 0.1207 - accuracy: 0.9556 - val_loss: 0.4387 - val_accuracy: 0.8471\n",
            "Epoch 64/100\n",
            "62/62 [==============================] - 0s 6ms/step - loss: 0.2121 - accuracy: 0.9163 - val_loss: 0.4265 - val_accuracy: 0.8209\n",
            "Epoch 65/100\n",
            "62/62 [==============================] - 0s 6ms/step - loss: 0.1856 - accuracy: 0.9279 - val_loss: 0.7469 - val_accuracy: 0.7686\n",
            "Epoch 66/100\n",
            "62/62 [==============================] - 0s 6ms/step - loss: 0.1666 - accuracy: 0.9360 - val_loss: 0.4141 - val_accuracy: 0.8773\n",
            "Epoch 67/100\n",
            "62/62 [==============================] - 0s 6ms/step - loss: 0.0903 - accuracy: 0.9738 - val_loss: 0.6863 - val_accuracy: 0.8048\n",
            "Epoch 68/100\n",
            "62/62 [==============================] - 0s 6ms/step - loss: 0.1220 - accuracy: 0.9526 - val_loss: 0.4648 - val_accuracy: 0.8773\n",
            "Epoch 69/100\n",
            "62/62 [==============================] - 0s 6ms/step - loss: 0.3156 - accuracy: 0.8604 - val_loss: 0.4905 - val_accuracy: 0.8089\n",
            "Epoch 70/100\n",
            "62/62 [==============================] - 0s 6ms/step - loss: 0.2046 - accuracy: 0.9183 - val_loss: 0.6012 - val_accuracy: 0.7847\n",
            "Epoch 71/100\n",
            "62/62 [==============================] - 0s 6ms/step - loss: 0.1698 - accuracy: 0.9309 - val_loss: 0.4443 - val_accuracy: 0.8612\n",
            "Epoch 72/100\n",
            "62/62 [==============================] - 0s 6ms/step - loss: 0.1933 - accuracy: 0.9214 - val_loss: 0.4392 - val_accuracy: 0.8410\n",
            "Epoch 73/100\n",
            "62/62 [==============================] - 0s 6ms/step - loss: 0.1446 - accuracy: 0.9466 - val_loss: 0.4714 - val_accuracy: 0.8531\n",
            "Epoch 74/100\n",
            "62/62 [==============================] - 0s 6ms/step - loss: 0.1400 - accuracy: 0.9486 - val_loss: 0.4904 - val_accuracy: 0.8612\n",
            "Epoch 75/100\n",
            "62/62 [==============================] - 0s 6ms/step - loss: 0.1517 - accuracy: 0.9461 - val_loss: 0.9412 - val_accuracy: 0.6821\n",
            "Epoch 76/100\n",
            "62/62 [==============================] - 0s 6ms/step - loss: 0.1478 - accuracy: 0.9476 - val_loss: 0.5829 - val_accuracy: 0.8330\n",
            "Epoch 77/100\n",
            "62/62 [==============================] - 0s 6ms/step - loss: 0.1361 - accuracy: 0.9516 - val_loss: 0.6141 - val_accuracy: 0.7867\n",
            "Epoch 78/100\n",
            "62/62 [==============================] - 0s 6ms/step - loss: 0.1510 - accuracy: 0.9430 - val_loss: 0.5192 - val_accuracy: 0.8511\n",
            "Epoch 79/100\n",
            "62/62 [==============================] - 0s 6ms/step - loss: 0.1182 - accuracy: 0.9587 - val_loss: 0.4692 - val_accuracy: 0.8592\n",
            "Epoch 80/100\n",
            "62/62 [==============================] - 0s 6ms/step - loss: 0.1006 - accuracy: 0.9607 - val_loss: 0.6821 - val_accuracy: 0.8008\n",
            "Epoch 81/100\n",
            "62/62 [==============================] - 0s 6ms/step - loss: 0.0993 - accuracy: 0.9637 - val_loss: 0.5152 - val_accuracy: 0.8692\n",
            "Epoch 82/100\n",
            "62/62 [==============================] - 0s 6ms/step - loss: 0.1087 - accuracy: 0.9531 - val_loss: 0.6858 - val_accuracy: 0.7928\n",
            "Epoch 83/100\n",
            "62/62 [==============================] - 0s 6ms/step - loss: 0.2730 - accuracy: 0.8942 - val_loss: 0.4980 - val_accuracy: 0.7626\n",
            "Epoch 84/100\n",
            "62/62 [==============================] - 0s 6ms/step - loss: 0.2130 - accuracy: 0.9254 - val_loss: 0.4171 - val_accuracy: 0.8692\n",
            "Epoch 85/100\n",
            "62/62 [==============================] - 0s 6ms/step - loss: 0.0968 - accuracy: 0.9688 - val_loss: 1.1753 - val_accuracy: 0.7827\n",
            "Epoch 86/100\n",
            "62/62 [==============================] - 0s 6ms/step - loss: 0.2432 - accuracy: 0.9224 - val_loss: 0.4717 - val_accuracy: 0.8571\n",
            "Epoch 87/100\n",
            "62/62 [==============================] - 0s 6ms/step - loss: 0.1285 - accuracy: 0.9511 - val_loss: 1.0385 - val_accuracy: 0.7565\n",
            "Epoch 88/100\n",
            "62/62 [==============================] - 0s 6ms/step - loss: 0.2840 - accuracy: 0.9012 - val_loss: 0.4230 - val_accuracy: 0.8692\n",
            "Epoch 89/100\n",
            "62/62 [==============================] - 0s 6ms/step - loss: 0.0802 - accuracy: 0.9743 - val_loss: 0.4313 - val_accuracy: 0.8793\n",
            "Epoch 90/100\n",
            "62/62 [==============================] - 0s 6ms/step - loss: 0.1417 - accuracy: 0.9410 - val_loss: 0.4417 - val_accuracy: 0.8592\n",
            "Epoch 91/100\n",
            "62/62 [==============================] - 0s 6ms/step - loss: 0.0898 - accuracy: 0.9693 - val_loss: 0.4619 - val_accuracy: 0.8612\n",
            "Epoch 92/100\n",
            "62/62 [==============================] - 0s 6ms/step - loss: 0.0520 - accuracy: 0.9819 - val_loss: 0.4781 - val_accuracy: 0.8712\n",
            "Epoch 93/100\n",
            "62/62 [==============================] - 0s 6ms/step - loss: 0.0604 - accuracy: 0.9768 - val_loss: 0.5425 - val_accuracy: 0.8531\n",
            "Epoch 94/100\n",
            "62/62 [==============================] - 0s 6ms/step - loss: 0.0514 - accuracy: 0.9829 - val_loss: 0.4854 - val_accuracy: 0.8712\n",
            "Epoch 95/100\n",
            "62/62 [==============================] - 0s 6ms/step - loss: 0.1448 - accuracy: 0.9405 - val_loss: 0.4571 - val_accuracy: 0.8410\n",
            "Epoch 96/100\n",
            "62/62 [==============================] - 0s 6ms/step - loss: 0.0677 - accuracy: 0.9778 - val_loss: 0.5580 - val_accuracy: 0.8531\n",
            "Epoch 97/100\n",
            "62/62 [==============================] - 0s 6ms/step - loss: 0.2045 - accuracy: 0.9163 - val_loss: 0.4185 - val_accuracy: 0.8249\n",
            "Epoch 98/100\n",
            "62/62 [==============================] - 0s 6ms/step - loss: 0.0916 - accuracy: 0.9672 - val_loss: 0.4742 - val_accuracy: 0.8571\n",
            "Epoch 99/100\n",
            "62/62 [==============================] - 0s 6ms/step - loss: 0.0501 - accuracy: 0.9819 - val_loss: 0.7741 - val_accuracy: 0.8149\n",
            "Epoch 100/100\n",
            "62/62 [==============================] - 0s 6ms/step - loss: 0.0807 - accuracy: 0.9723 - val_loss: 0.5881 - val_accuracy: 0.8491\n"
          ],
          "name": "stdout"
        }
      ]
    },
    {
      "cell_type": "code",
      "metadata": {
        "colab": {
          "base_uri": "https://localhost:8080/"
        },
        "id": "NSmc_X3gTEj-",
        "outputId": "7b23a197-161f-4509-9e9e-c2393c5f8dbd"
      },
      "source": [
        "# Calculating accuracy\n",
        "test_loss, test_acc = model.evaluate(test_X,  test_y, verbose=2)\n",
        "print(\"Test accuracy :\", '%0.2f' % (test_acc*100), \"%\")"
      ],
      "execution_count": 9,
      "outputs": [
        {
          "output_type": "stream",
          "text": [
            "16/16 - 0s - loss: 0.5881 - accuracy: 0.8491\n",
            "Test accuracy : 84.91 %\n"
          ],
          "name": "stdout"
        }
      ]
    },
    {
      "cell_type": "code",
      "metadata": {
        "colab": {
          "base_uri": "https://localhost:8080/",
          "height": 295
        },
        "id": "m4ospHDiOU7-",
        "outputId": "abfc6406-2f8b-457b-997a-20f4a87e9607"
      },
      "source": [
        "# Preedicting result\n",
        "COLOR = 'green'\n",
        "plt.rcParams['text.color'] = COLOR\n",
        "plt.rcParams['axes.labelcolor'] = COLOR\n",
        "class_names = ['COVID NEGATIVE', 'COVID POSITIVE']\n",
        "\n",
        "def predict(model, image, correct_label):\n",
        "    \n",
        "    prediction = model.predict(np.array([image]))\n",
        "    predicted_class = class_names[np.argmax(prediction)]\n",
        "\n",
        "    show_image(image, class_names[correct_label], predicted_class)\n",
        "\n",
        "\n",
        "def show_image(img, label, guess):\n",
        "    tmp = img.reshape(100, 100, 3)\n",
        "    plt.figure()\n",
        "    plt.imshow(tmp, cmap=plt.cm.binary)\n",
        "    plt.title(\"Actual : \" + label)\n",
        "    plt.xlabel(\"Predicted : \" + guess)\n",
        "    plt.grid(False)\n",
        "    plt.show()\n",
        "\n",
        "t = random.randint(0, len(test_X))\n",
        "image = test_X[t]\n",
        "label = test_y[t]\n",
        "predict(model, image, label)"
      ],
      "execution_count": 10,
      "outputs": [
        {
          "output_type": "display_data",
          "data": {
            "image/png": "[encoded data removed]",
            "text/plain": [
              "<Figure size 432x288 with 1 Axes>"
            ]
          },
          "metadata": {
            "tags": [],
            "needs_background": "light"
          }
        }
      ]
    }
  ]
}