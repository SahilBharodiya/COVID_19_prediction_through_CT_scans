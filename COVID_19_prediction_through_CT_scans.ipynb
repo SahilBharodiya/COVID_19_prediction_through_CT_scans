{
  "nbformat": 4,
  "nbformat_minor": 0,
  "metadata": {
    "accelerator": "GPU",
    "colab": {
      "name": "COVID-19 prediction through CT-scans.ipynb",
      "provenance": [],
      "collapsed_sections": []
    },
    "kernelspec": {
      "display_name": "Python 3",
      "name": "python3"
    },
    "language_info": {
      "name": "python"
    }
  },
  "cells": [
    {
      "cell_type": "code",
      "metadata": {
        "id": "SHeiFFia0cTA"
      },
      "source": [
        "import os  #For path loading\n",
        "import cv2  #For working with images\n",
        "import numpy as np  #Array releted work\n",
        "import matplotlib.pyplot as plt  #For ploting images\n",
        "from sklearn.model_selection import train_test_split  #Deviding data in training and testing\n",
        "import tensorflow as tf  #For neural network\n",
        "from tensorflow import keras  #For training and testing neural network\n",
        "import random  #To assume numbers"
      ],
      "execution_count": 26,
      "outputs": []
    },
    {
      "cell_type": "code",
      "metadata": {
        "id": "fut0Rgbw0lAc"
      },
      "source": [
        "#Covid Negative CT scans\n",
        "C_N = \"/content/drive/MyDrive/Colab Notebooks/Models/Covid/Covid Negative\"\n",
        "covid_negative = os.listdir(C_N)\n",
        "\n",
        "#Covid Positive CT scans\n",
        "C_P = \"/content/drive/MyDrive/Colab Notebooks/Models/Covid/Covid Positive\"\n",
        "covid_positive = os.listdir(C_P)"
      ],
      "execution_count": 27,
      "outputs": []
    },
    {
      "cell_type": "code",
      "metadata": {
        "id": "3N7XkJ481Cei"
      },
      "source": [
        "X = []\n",
        "y = []"
      ],
      "execution_count": 28,
      "outputs": []
    },
    {
      "cell_type": "code",
      "metadata": {
        "id": "ay1Eajau0rU3"
      },
      "source": [
        "for img in covid_negative:\n",
        "    img_path = os.path.join(C_N, img)\n",
        "\n",
        "    img_array = cv2.imread(img_path)  #Reading images\n",
        "    img_array = img_array / 255.0  #Converting image array in 0 to 1\n",
        "\n",
        "    i = cv2.resize(img_array, (100, 100), interpolation = cv2.INTER_NEAREST)  #Reshaping images\n",
        "    X.append(i)\n",
        "    y.append(0)"
      ],
      "execution_count": 29,
      "outputs": []
    },
    {
      "cell_type": "code",
      "metadata": {
        "id": "u-b8Ej1p4g3_"
      },
      "source": [
        "for img in covid_positive:\n",
        "    img_path = os.path.join(C_P, img)\n",
        "\n",
        "    img_array = cv2.imread(img_path)\n",
        "    img_array = img_array / 255.0\n",
        "\n",
        "    i = cv2.resize(img_array, (100, 100), interpolation = cv2.INTER_NEAREST)\n",
        "    X.append(i)\n",
        "    y.append(1)"
      ],
      "execution_count": 30,
      "outputs": []
    },
    {
      "cell_type": "code",
      "metadata": {
        "id": "ZKIUZ8_ZAKjG"
      },
      "source": [
        "#Converting list into numpy array\n",
        "X = np.array(X)\n",
        "y = np.array(y)"
      ],
      "execution_count": 31,
      "outputs": []
    },
    {
      "cell_type": "code",
      "metadata": {
        "id": "u97s40Oc_9u6"
      },
      "source": [
        "train_X, test_X, train_y, test_y = train_test_split(X, y, test_size=0.2)  #Deviding dataset into training and testing"
      ],
      "execution_count": 32,
      "outputs": []
    },
    {
      "cell_type": "code",
      "metadata": {
        "id": "xAYZ_yPJ801F"
      },
      "source": [
        "#Our neural network\n",
        "model = keras.Sequential([\n",
        "    keras.layers.Flatten(input_shape=(100, 100, 3)),\n",
        "    keras.layers.Dense(20, activation='relu'), \n",
        "    keras.layers.Dense(20, activation='relu'), \n",
        "    keras.layers.Dense(2, activation='softmax')\n",
        "])"
      ],
      "execution_count": 33,
      "outputs": []
    },
    {
      "cell_type": "code",
      "metadata": {
        "id": "XN7hZmWX-EBl"
      },
      "source": [
        "model.compile(optimizer='adam',\n",
        "              loss='sparse_categorical_crossentropy',\n",
        "              metrics=['accuracy'])"
      ],
      "execution_count": 34,
      "outputs": []
    },
    {
      "cell_type": "code",
      "metadata": {
        "id": "RAK2eMZ7-IL_",
        "colab": {
          "base_uri": "https://localhost:8080/"
        },
        "outputId": "43573d94-ba8a-4fc4-af77-e3c913aec548"
      },
      "source": [
        "model.fit(train_X, train_y, epochs=100)  #Training model"
      ],
      "execution_count": 35,
      "outputs": [
        {
          "output_type": "stream",
          "text": [
            "Epoch 1/100\n",
            "62/62 [==============================] - 0s 3ms/step - loss: 1.5511 - accuracy: 0.5425\n",
            "Epoch 2/100\n",
            "62/62 [==============================] - 0s 3ms/step - loss: 0.5518 - accuracy: 0.7163\n",
            "Epoch 3/100\n",
            "62/62 [==============================] - 0s 3ms/step - loss: 0.6542 - accuracy: 0.6534\n",
            "Epoch 4/100\n",
            "62/62 [==============================] - 0s 3ms/step - loss: 0.5539 - accuracy: 0.7227\n",
            "Epoch 5/100\n",
            "62/62 [==============================] - 0s 3ms/step - loss: 0.4954 - accuracy: 0.7569\n",
            "Epoch 6/100\n",
            "62/62 [==============================] - 0s 3ms/step - loss: 0.4813 - accuracy: 0.7686\n",
            "Epoch 7/100\n",
            "62/62 [==============================] - 0s 3ms/step - loss: 0.5721 - accuracy: 0.7317\n",
            "Epoch 8/100\n",
            "62/62 [==============================] - 0s 3ms/step - loss: 0.5801 - accuracy: 0.7159\n",
            "Epoch 9/100\n",
            "62/62 [==============================] - 0s 4ms/step - loss: 0.4593 - accuracy: 0.7677\n",
            "Epoch 10/100\n",
            "62/62 [==============================] - 0s 3ms/step - loss: 0.4820 - accuracy: 0.7638\n",
            "Epoch 11/100\n",
            "62/62 [==============================] - 0s 3ms/step - loss: 0.4374 - accuracy: 0.8026\n",
            "Epoch 12/100\n",
            "62/62 [==============================] - 0s 3ms/step - loss: 0.4289 - accuracy: 0.7981\n",
            "Epoch 13/100\n",
            "62/62 [==============================] - 0s 3ms/step - loss: 0.4199 - accuracy: 0.8065\n",
            "Epoch 14/100\n",
            "62/62 [==============================] - 0s 3ms/step - loss: 0.4035 - accuracy: 0.8168\n",
            "Epoch 15/100\n",
            "62/62 [==============================] - 0s 3ms/step - loss: 0.4013 - accuracy: 0.8095\n",
            "Epoch 16/100\n",
            "62/62 [==============================] - 0s 3ms/step - loss: 0.3822 - accuracy: 0.8273\n",
            "Epoch 17/100\n",
            "62/62 [==============================] - 0s 3ms/step - loss: 0.4314 - accuracy: 0.8089\n",
            "Epoch 18/100\n",
            "62/62 [==============================] - 0s 3ms/step - loss: 0.3752 - accuracy: 0.8381\n",
            "Epoch 19/100\n",
            "62/62 [==============================] - 0s 3ms/step - loss: 0.3626 - accuracy: 0.8399\n",
            "Epoch 20/100\n",
            "62/62 [==============================] - 0s 3ms/step - loss: 0.3677 - accuracy: 0.8343\n",
            "Epoch 21/100\n",
            "62/62 [==============================] - 0s 3ms/step - loss: 0.3710 - accuracy: 0.8372\n",
            "Epoch 22/100\n",
            "62/62 [==============================] - 0s 3ms/step - loss: 0.4208 - accuracy: 0.8000\n",
            "Epoch 23/100\n",
            "62/62 [==============================] - 0s 3ms/step - loss: 0.3320 - accuracy: 0.8633\n",
            "Epoch 24/100\n",
            "62/62 [==============================] - 0s 3ms/step - loss: 0.4061 - accuracy: 0.8199\n",
            "Epoch 25/100\n",
            "62/62 [==============================] - 0s 3ms/step - loss: 0.3386 - accuracy: 0.8617\n",
            "Epoch 26/100\n",
            "62/62 [==============================] - 0s 3ms/step - loss: 0.3824 - accuracy: 0.8334\n",
            "Epoch 27/100\n",
            "62/62 [==============================] - 0s 3ms/step - loss: 0.3376 - accuracy: 0.8525\n",
            "Epoch 28/100\n",
            "62/62 [==============================] - 0s 3ms/step - loss: 0.2791 - accuracy: 0.8979\n",
            "Epoch 29/100\n",
            "62/62 [==============================] - 0s 3ms/step - loss: 0.3945 - accuracy: 0.8280\n",
            "Epoch 30/100\n",
            "62/62 [==============================] - 0s 3ms/step - loss: 0.3886 - accuracy: 0.8360\n",
            "Epoch 31/100\n",
            "62/62 [==============================] - 0s 3ms/step - loss: 0.2933 - accuracy: 0.8839\n",
            "Epoch 32/100\n",
            "62/62 [==============================] - 0s 3ms/step - loss: 0.2875 - accuracy: 0.8798\n",
            "Epoch 33/100\n",
            "62/62 [==============================] - 0s 3ms/step - loss: 0.3020 - accuracy: 0.8828\n",
            "Epoch 34/100\n",
            "62/62 [==============================] - 0s 3ms/step - loss: 0.2844 - accuracy: 0.8901\n",
            "Epoch 35/100\n",
            "62/62 [==============================] - 0s 3ms/step - loss: 0.3067 - accuracy: 0.8685\n",
            "Epoch 36/100\n",
            "62/62 [==============================] - 0s 3ms/step - loss: 0.3836 - accuracy: 0.8359\n",
            "Epoch 37/100\n",
            "62/62 [==============================] - 0s 3ms/step - loss: 0.3060 - accuracy: 0.8692\n",
            "Epoch 38/100\n",
            "62/62 [==============================] - 0s 3ms/step - loss: 0.3167 - accuracy: 0.8611\n",
            "Epoch 39/100\n",
            "62/62 [==============================] - 0s 3ms/step - loss: 0.3111 - accuracy: 0.8731\n",
            "Epoch 40/100\n",
            "62/62 [==============================] - 0s 3ms/step - loss: 0.4685 - accuracy: 0.7854\n",
            "Epoch 41/100\n",
            "62/62 [==============================] - 0s 3ms/step - loss: 0.3254 - accuracy: 0.8458\n",
            "Epoch 42/100\n",
            "62/62 [==============================] - 0s 3ms/step - loss: 0.2748 - accuracy: 0.8872\n",
            "Epoch 43/100\n",
            "62/62 [==============================] - 0s 3ms/step - loss: 0.2567 - accuracy: 0.8986\n",
            "Epoch 44/100\n",
            "62/62 [==============================] - 0s 4ms/step - loss: 0.2625 - accuracy: 0.8922\n",
            "Epoch 45/100\n",
            "62/62 [==============================] - 0s 3ms/step - loss: 0.3251 - accuracy: 0.8622\n",
            "Epoch 46/100\n",
            "62/62 [==============================] - 0s 3ms/step - loss: 0.1970 - accuracy: 0.9265\n",
            "Epoch 47/100\n",
            "62/62 [==============================] - 0s 3ms/step - loss: 0.2198 - accuracy: 0.9142\n",
            "Epoch 48/100\n",
            "62/62 [==============================] - 0s 3ms/step - loss: 0.2517 - accuracy: 0.8907\n",
            "Epoch 49/100\n",
            "62/62 [==============================] - 0s 3ms/step - loss: 0.2267 - accuracy: 0.9038\n",
            "Epoch 50/100\n",
            "62/62 [==============================] - 0s 3ms/step - loss: 0.1999 - accuracy: 0.9205\n",
            "Epoch 51/100\n",
            "62/62 [==============================] - 0s 3ms/step - loss: 0.4310 - accuracy: 0.8350\n",
            "Epoch 52/100\n",
            "62/62 [==============================] - 0s 3ms/step - loss: 0.3393 - accuracy: 0.8359\n",
            "Epoch 53/100\n",
            "62/62 [==============================] - 0s 3ms/step - loss: 0.2798 - accuracy: 0.8838\n",
            "Epoch 54/100\n",
            "62/62 [==============================] - 0s 3ms/step - loss: 0.3100 - accuracy: 0.8688\n",
            "Epoch 55/100\n",
            "62/62 [==============================] - 0s 3ms/step - loss: 0.2162 - accuracy: 0.9151\n",
            "Epoch 56/100\n",
            "62/62 [==============================] - 0s 3ms/step - loss: 0.2406 - accuracy: 0.9060\n",
            "Epoch 57/100\n",
            "62/62 [==============================] - 0s 3ms/step - loss: 0.2102 - accuracy: 0.9385\n",
            "Epoch 58/100\n",
            "62/62 [==============================] - 0s 3ms/step - loss: 0.3128 - accuracy: 0.8555\n",
            "Epoch 59/100\n",
            "62/62 [==============================] - 0s 3ms/step - loss: 0.3037 - accuracy: 0.8576\n",
            "Epoch 60/100\n",
            "62/62 [==============================] - 0s 4ms/step - loss: 0.2157 - accuracy: 0.9225\n",
            "Epoch 61/100\n",
            "62/62 [==============================] - 0s 3ms/step - loss: 0.2057 - accuracy: 0.9143\n",
            "Epoch 62/100\n",
            "62/62 [==============================] - 0s 4ms/step - loss: 0.2635 - accuracy: 0.8948\n",
            "Epoch 63/100\n",
            "62/62 [==============================] - 0s 3ms/step - loss: 0.3027 - accuracy: 0.8445\n",
            "Epoch 64/100\n",
            "62/62 [==============================] - 0s 3ms/step - loss: 0.2718 - accuracy: 0.8779\n",
            "Epoch 65/100\n",
            "62/62 [==============================] - 0s 3ms/step - loss: 0.2341 - accuracy: 0.9066\n",
            "Epoch 66/100\n",
            "62/62 [==============================] - 0s 3ms/step - loss: 0.2030 - accuracy: 0.9267\n",
            "Epoch 67/100\n",
            "62/62 [==============================] - 0s 3ms/step - loss: 0.2307 - accuracy: 0.8985\n",
            "Epoch 68/100\n",
            "62/62 [==============================] - 0s 3ms/step - loss: 0.2084 - accuracy: 0.9166\n",
            "Epoch 69/100\n",
            "62/62 [==============================] - 0s 3ms/step - loss: 0.1780 - accuracy: 0.9399\n",
            "Epoch 70/100\n",
            "62/62 [==============================] - 0s 3ms/step - loss: 0.1956 - accuracy: 0.9201\n",
            "Epoch 71/100\n",
            "62/62 [==============================] - 0s 3ms/step - loss: 0.3615 - accuracy: 0.8390\n",
            "Epoch 72/100\n",
            "62/62 [==============================] - 0s 3ms/step - loss: 0.1789 - accuracy: 0.9291\n",
            "Epoch 73/100\n",
            "62/62 [==============================] - 0s 3ms/step - loss: 0.1628 - accuracy: 0.9412\n",
            "Epoch 74/100\n",
            "62/62 [==============================] - 0s 3ms/step - loss: 0.2160 - accuracy: 0.9105\n",
            "Epoch 75/100\n",
            "62/62 [==============================] - 0s 3ms/step - loss: 0.1930 - accuracy: 0.9234\n",
            "Epoch 76/100\n",
            "62/62 [==============================] - 0s 3ms/step - loss: 0.1296 - accuracy: 0.9568\n",
            "Epoch 77/100\n",
            "62/62 [==============================] - 0s 3ms/step - loss: 0.1937 - accuracy: 0.9320\n",
            "Epoch 78/100\n",
            "62/62 [==============================] - 0s 3ms/step - loss: 0.2174 - accuracy: 0.9196\n",
            "Epoch 79/100\n",
            "62/62 [==============================] - 0s 3ms/step - loss: 0.1388 - accuracy: 0.9492\n",
            "Epoch 80/100\n",
            "62/62 [==============================] - 0s 3ms/step - loss: 0.1655 - accuracy: 0.9371\n",
            "Epoch 81/100\n",
            "62/62 [==============================] - 0s 3ms/step - loss: 0.1498 - accuracy: 0.9507\n",
            "Epoch 82/100\n",
            "62/62 [==============================] - 0s 3ms/step - loss: 0.3338 - accuracy: 0.8550\n",
            "Epoch 83/100\n",
            "62/62 [==============================] - 0s 4ms/step - loss: 0.2881 - accuracy: 0.8812\n",
            "Epoch 84/100\n",
            "62/62 [==============================] - 0s 3ms/step - loss: 0.1802 - accuracy: 0.9239\n",
            "Epoch 85/100\n",
            "62/62 [==============================] - 0s 3ms/step - loss: 0.6913 - accuracy: 0.6489\n",
            "Epoch 86/100\n",
            "62/62 [==============================] - 0s 3ms/step - loss: 0.6782 - accuracy: 0.4935\n",
            "Epoch 87/100\n",
            "62/62 [==============================] - 0s 3ms/step - loss: 0.5733 - accuracy: 0.5746\n",
            "Epoch 88/100\n",
            "62/62 [==============================] - 0s 3ms/step - loss: 0.4654 - accuracy: 0.8582\n",
            "Epoch 89/100\n",
            "62/62 [==============================] - 0s 3ms/step - loss: 0.3978 - accuracy: 0.8947\n",
            "Epoch 90/100\n",
            "62/62 [==============================] - 0s 3ms/step - loss: 0.4001 - accuracy: 0.8808\n",
            "Epoch 91/100\n",
            "62/62 [==============================] - 0s 3ms/step - loss: 0.3254 - accuracy: 0.9178\n",
            "Epoch 92/100\n",
            "62/62 [==============================] - 0s 3ms/step - loss: 0.3171 - accuracy: 0.9139\n",
            "Epoch 93/100\n",
            "62/62 [==============================] - 0s 3ms/step - loss: 0.3396 - accuracy: 0.8852\n",
            "Epoch 94/100\n",
            "62/62 [==============================] - 0s 3ms/step - loss: 0.3613 - accuracy: 0.8660\n",
            "Epoch 95/100\n",
            "62/62 [==============================] - 0s 3ms/step - loss: 0.4244 - accuracy: 0.8225\n",
            "Epoch 96/100\n",
            "62/62 [==============================] - 0s 3ms/step - loss: 0.2767 - accuracy: 0.9248\n",
            "Epoch 97/100\n",
            "62/62 [==============================] - 0s 3ms/step - loss: 0.3175 - accuracy: 0.8976\n",
            "Epoch 98/100\n",
            "62/62 [==============================] - 0s 3ms/step - loss: 0.2435 - accuracy: 0.9453\n",
            "Epoch 99/100\n",
            "62/62 [==============================] - 0s 4ms/step - loss: 0.2533 - accuracy: 0.9214\n",
            "Epoch 100/100\n",
            "62/62 [==============================] - 0s 3ms/step - loss: 0.2500 - accuracy: 0.9261\n"
          ],
          "name": "stdout"
        },
        {
          "output_type": "execute_result",
          "data": {
            "text/plain": [
              "<tensorflow.python.keras.callbacks.History at 0x7fd944600a10>"
            ]
          },
          "metadata": {
            "tags": []
          },
          "execution_count": 35
        }
      ]
    },
    {
      "cell_type": "code",
      "metadata": {
        "colab": {
          "base_uri": "https://localhost:8080/"
        },
        "id": "9lTAsHNy_bFW",
        "outputId": "491127ff-179f-49f5-91d8-c04340295e0a"
      },
      "source": [
        "#Testing accuracy\n",
        "test_loss, test_acc = model.evaluate(test_X,  test_y, verbose=1) \n",
        "print('Test accuracy :', test_acc)"
      ],
      "execution_count": 36,
      "outputs": [
        {
          "output_type": "stream",
          "text": [
            "16/16 [==============================] - 0s 4ms/step - loss: 0.5035 - accuracy: 0.8189\n",
            "Test accuracy : 0.818913459777832\n"
          ],
          "name": "stdout"
        }
      ]
    },
    {
      "cell_type": "code",
      "metadata": {
        "colab": {
          "base_uri": "https://localhost:8080/",
          "height": 311
        },
        "id": "AgqPn8z4-Min",
        "outputId": "51617b99-6798-451e-b35d-20cbe85cc0a6"
      },
      "source": [
        "#Predicting results\n",
        "COLOR = 'green'\n",
        "plt.rcParams['text.color'] = COLOR\n",
        "plt.rcParams['axes.labelcolor'] = COLOR\n",
        "\n",
        "def predict(model, image, correct_label):\n",
        "    class_names = ['0', '1']\n",
        "    prediction = model.predict(np.array([image]))\n",
        "    predicted_class = class_names[np.argmax(prediction)]\n",
        "\n",
        "    show_image(image, class_names[correct_label], predicted_class)\n",
        "\n",
        "\n",
        "def show_image(img, label, guess):\n",
        "    plt.figure()\n",
        "    plt.imshow(img, cmap=plt.cm.binary)\n",
        "    plt.title(\"Actual Result : Covid Positive\" if label == '1'  else \"Actual Result : Covid Negative\")\n",
        "    plt.xlabel(\"Model Predicted Result : Covid Positive\" if guess == '1' else \"Model Predicted Result : Covid Negative\")\n",
        "    plt.grid(False)\n",
        "    plt.show()\n",
        "\n",
        "\n",
        "t = random.randint(0,len(test_X))\n",
        "image = test_X[t]\n",
        "label = test_y[t]\n",
        "print(test_y[t])\n",
        "predict(model, image, label)"
      ],
      "execution_count": 71,
      "outputs": [
        {
          "output_type": "stream",
          "text": [
            "1\n"
          ],
          "name": "stdout"
        },
        {
          "output_type": "display_data",
          "data": {
            "image/png": "[encoded data removed]",
            "text/plain": [
              "<Figure size 432x288 with 1 Axes>"
            ]
          },
          "metadata": {
            "tags": [],
            "needs_background": "light"
          }
        }
      ]
    },
    {
      "cell_type": "code",
      "metadata": {
        "id": "CUm6Kb1yqHRc"
      },
      "source": [
        ""
      ],
      "execution_count": null,
      "outputs": []
    }
  ]
}